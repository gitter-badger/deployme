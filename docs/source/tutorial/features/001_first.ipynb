{
 "cells": [
  {
   "cell_type": "markdown",
   "metadata": {},
   "source": [
    "\n",
    "\n",
    "# 1. Lightweight and versatile\n",
    "\n",
    "DeployMe is written entirely in Python with few dependencies.\n",
    "This means that once you get interested in DeployMe, we can quickly move to a practical example.\n",
    "\n",
    "\n",
    "## Simple Sklearn Local Example\n",
    "\n",
    "DeployMe provides a simple interface to create project and deploy a model.\n",
    "\n",
    "- :func:`deployme.contrib.entrypoint.cook` is a function that takes a model and a strategy and deploys it.\n",
    "\n",
    "In this example, we simply create a project with scikit-learn.\n"
   ]
  },
  {
   "cell_type": "markdown",
   "metadata": {},
   "source": [
    "Firstly, import :mod:`deployme`.\n",
    "\n"
   ]
  },
  {
   "cell_type": "code",
   "execution_count": null,
   "metadata": {
    "collapsed": false
   },
   "outputs": [],
   "source": [
    "import deployme"
   ]
  },
  {
   "cell_type": "markdown",
   "metadata": {},
   "source": [
    "Import :class:`sklearn.ensemble.RandomForestClassifier` as classifier\n",
    "and :mod:`sklearn.datasets` to load the iris dataset.\n",
    "\n"
   ]
  },
  {
   "cell_type": "code",
   "execution_count": null,
   "metadata": {
    "collapsed": false
   },
   "outputs": [],
   "source": [
    "from sklearn.datasets import load_iris\n",
    "from sklearn.ensemble import RandomForestClassifier"
   ]
  },
  {
   "cell_type": "markdown",
   "metadata": {},
   "source": [
    "Let's load dataset and create and train a simple model.\n",
    "\n"
   ]
  },
  {
   "cell_type": "code",
   "execution_count": null,
   "metadata": {
    "collapsed": false
   },
   "outputs": [],
   "source": [
    "X, y = load_iris(return_X_y=True)\n",
    "clf = RandomForestClassifier()\n",
    "clf.fit(X, y)"
   ]
  },
  {
   "cell_type": "markdown",
   "metadata": {},
   "source": [
    "Now, we can deploy the model with :func:`deployme.contrib.entrypoint.cook`.\n",
    "Main arguments are ``model`` and ``strategy``.\n",
    "\n",
    "The strategy can be either `local` or `docker`.\n",
    "The `local` strategy will deploy the model locally.\n",
    "The `docker` strategy will deploy the model in a docker container.\n",
    "The :func:`deployme.contrib.entrypoint.cook` function will return a bool or container name.\n",
    "\n",
    "Now we make only a project without running it.\n",
    "After calling the :func:`deployme.contrib.entrypoint.cook` function\n",
    "You can see `build` folder in the current directory.\n",
    "\n",
    "It contains:\n",
    "\n",
    "- `Dockerfile` - Dockerfile for the model\n",
    "\n",
    "- `requirements.txt` - requirements for the model\n",
    "\n",
    "- `models` directory - directory with the dumped model\n",
    "\n",
    "- `data` directory - directory with the example for the model\n",
    "\n",
    "- `server.py` - main file for the model\n",
    "\n",
    "\n"
   ]
  },
  {
   "cell_type": "code",
   "execution_count": null,
   "metadata": {
    "collapsed": false
   },
   "outputs": [],
   "source": [
    "deployme.contrib.cook(strategy=\"local\", model=clf)"
   ]
  },
  {
   "cell_type": "markdown",
   "metadata": {},
   "source": [
    "Let's see on :func:`deployme.contrib.entrypoint.cook` signature.\n",
    "This function accepts a lot of parameters, but we see only the most important ones.\n",
    "\n",
    "- `model` - model to deploy\n",
    "- `strategy` - strategy to use\n",
    "- `backend` - backend to use\n",
    "- `need_run` - run service after build or not\n",
    "- `scan_path` - path to scan for requirements\n",
    "- `silent` - silent mode\n",
    "- `verbose` - verbose mode\n",
    "\n",
    "Model parameter is the most important one.\n",
    "It can be any model that implements the `predict` and other methods.\n",
    "\n",
    "<div class=\"alert alert-info\"><h4>Note</h4><p>The model must be picklable.</p></div>\n",
    "\n",
    "<div class=\"alert alert-info\"><h4>Note</h4><p>Now is supported `sklearn`, `xgboost`.</p></div>\n",
    "\n",
    "Strategy parameter determines the strategy to use.\n",
    "\n",
    "Backend parameter determines the backend to use.\n",
    "Now is implemented :mod:`sanic` and :mod:`flask` backends.\n",
    "\n"
   ]
  }
 ],
 "metadata": {
  "kernelspec": {
   "display_name": "Python 3",
   "language": "python",
   "name": "python3"
  },
  "language_info": {
   "codemirror_mode": {
    "name": "ipython",
    "version": 3
   },
   "file_extension": ".py",
   "mimetype": "text/x-python",
   "name": "python",
   "nbconvert_exporter": "python",
   "pygments_lexer": "ipython3",
   "version": "3.9.13"
  }
 },
 "nbformat": 4,
 "nbformat_minor": 0
}
