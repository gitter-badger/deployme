{
    "cells": [
        {
            "cell_type": "code",
            "execution_count": 1,
            "id": "b62c69d2-b97b-4430-9a1e-17e93c692e5a",
            "metadata": {},
            "outputs": [],
            "source": [
                "import numpy"
            ]
        },
        {
            "cell_type": "code",
            "execution_count": null,
            "id": "efe18644-9637-4395-9d6c-bce28c5e87ff",
            "metadata": {},
            "outputs": [],
            "source": [
                "import sklearn"
            ]
        },
        {
            "cell_type": "markdown",
            "id": "3ac8428c",
            "metadata": {},
            "source": [
                "Some markdown text"
            ]
        },
        {
            "cell_type": "markdown",
            "id": "126321e3",
            "metadata": {},
            "source": [
                "# some comment\n",
                "import matplotlib"
            ]
        },
        {
            "cell_type": "code",
            "execution_count": null,
            "id": "eed1cc35",
            "metadata": {},
            "outputs": [],
            "source": [
                "import plotly"
            ]
        }
    ],
    "metadata": {
        "kernelspec": {
            "display_name": "Python 3 (ipykernel)",
            "language": "python",
            "name": "python3"
        },
        "language_info": {
            "codemirror_mode": {
                "name": "ipython",
                "version": 3
            },
            "file_extension": ".py",
            "mimetype": "text/x-python",
            "name": "python",
            "nbconvert_exporter": "python",
            "pygments_lexer": "ipython3",
            "version": "3.10.6"
        }
    },
    "nbformat": -5,
    "nbformat_minor": -10
}
